{
  "nbformat": 4,
  "nbformat_minor": 0,
  "metadata": {
    "kernelspec": {
      "display_name": "Python 3",
      "language": "python",
      "name": "python3"
    },
    "language_info": {
      "codemirror_mode": {
        "name": "ipython",
        "version": 3
      },
      "file_extension": ".py",
      "mimetype": "text/x-python",
      "name": "python",
      "nbconvert_exporter": "python",
      "pygments_lexer": "ipython3",
      "version": "3.7.4"
    },
    "colab": {
      "name": "rmtj_Question 03.ipynb",
      "provenance": []
    }
  },
  "cells": [
    {
      "cell_type": "code",
      "metadata": {
        "id": "H7NoNb2W_2J0",
        "colab_type": "code",
        "colab": {}
      },
      "source": [
        "import numpy as np\n",
        "import pandas as pd\n",
        "import matplotlib.pyplot as plt"
      ],
      "execution_count": null,
      "outputs": []
    },
    {
      "cell_type": "code",
      "metadata": {
        "id": "KM-VMONx_2KB",
        "colab_type": "code",
        "colab": {}
      },
      "source": [
        "from sklearn import linear_model\n",
        "from sklearn.linear_model import LinearRegression"
      ],
      "execution_count": null,
      "outputs": []
    },
    {
      "cell_type": "code",
      "metadata": {
        "id": "5yuf-gjG_2KH",
        "colab_type": "code",
        "colab": {}
      },
      "source": [
        "dataset=pd.read_excel('Data/tb-by-place-of-birth-age-sex-and-race-ethnicity.xlsx')"
      ],
      "execution_count": null,
      "outputs": []
    },
    {
      "cell_type": "code",
      "metadata": {
        "id": "GBvaPvRz_2KR",
        "colab_type": "code",
        "colab": {
          "base_uri": "https://localhost:8080/",
          "height": 191
        },
        "outputId": "649ecae2-c16e-4c09-9f48-825fe58e6c71"
      },
      "source": [
        "dataset.head()"
      ],
      "execution_count": null,
      "outputs": [
        {
          "output_type": "execute_result",
          "data": {
            "text/html": [
              "<div>\n",
              "<style scoped>\n",
              "    .dataframe tbody tr th:only-of-type {\n",
              "        vertical-align: middle;\n",
              "    }\n",
              "\n",
              "    .dataframe tbody tr th {\n",
              "        vertical-align: top;\n",
              "    }\n",
              "\n",
              "    .dataframe thead th {\n",
              "        text-align: right;\n",
              "    }\n",
              "</style>\n",
              "<table border=\"1\" class=\"dataframe\">\n",
              "  <thead>\n",
              "    <tr style=\"text-align: right;\">\n",
              "      <th></th>\n",
              "      <th>Year</th>\n",
              "      <th>Category</th>\n",
              "      <th>Strata</th>\n",
              "      <th>Cases</th>\n",
              "      <th>Population</th>\n",
              "      <th>Rate per 100,000 population</th>\n",
              "    </tr>\n",
              "  </thead>\n",
              "  <tbody>\n",
              "    <tr>\n",
              "      <th>0</th>\n",
              "      <td>2005</td>\n",
              "      <td>Total</td>\n",
              "      <td>All cases</td>\n",
              "      <td>2897</td>\n",
              "      <td>35985582</td>\n",
              "      <td>8.1</td>\n",
              "    </tr>\n",
              "    <tr>\n",
              "      <th>1</th>\n",
              "      <td>2006</td>\n",
              "      <td>Total</td>\n",
              "      <td>All cases</td>\n",
              "      <td>2776</td>\n",
              "      <td>36246822</td>\n",
              "      <td>7.7</td>\n",
              "    </tr>\n",
              "    <tr>\n",
              "      <th>2</th>\n",
              "      <td>2007</td>\n",
              "      <td>Total</td>\n",
              "      <td>All cases</td>\n",
              "      <td>2722</td>\n",
              "      <td>36552529</td>\n",
              "      <td>7.4</td>\n",
              "    </tr>\n",
              "    <tr>\n",
              "      <th>3</th>\n",
              "      <td>2008</td>\n",
              "      <td>Total</td>\n",
              "      <td>All cases</td>\n",
              "      <td>2695</td>\n",
              "      <td>36856222</td>\n",
              "      <td>7.3</td>\n",
              "    </tr>\n",
              "    <tr>\n",
              "      <th>4</th>\n",
              "      <td>2009</td>\n",
              "      <td>Total</td>\n",
              "      <td>All cases</td>\n",
              "      <td>2466</td>\n",
              "      <td>37077204</td>\n",
              "      <td>6.7</td>\n",
              "    </tr>\n",
              "  </tbody>\n",
              "</table>\n",
              "</div>"
            ],
            "text/plain": [
              "   Year Category     Strata Cases Population Rate per 100,000 population\n",
              "0  2005    Total  All cases  2897   35985582                         8.1\n",
              "1  2006    Total  All cases  2776   36246822                         7.7\n",
              "2  2007    Total  All cases  2722   36552529                         7.4\n",
              "3  2008    Total  All cases  2695   36856222                         7.3\n",
              "4  2009    Total  All cases  2466   37077204                         6.7"
            ]
          },
          "metadata": {
            "tags": []
          },
          "execution_count": 5
        }
      ]
    },
    {
      "cell_type": "code",
      "metadata": {
        "id": "KGy4JI4-_2Kf",
        "colab_type": "code",
        "colab": {}
      },
      "source": [
        "dataset_lhj=pd.read_excel(\"Data/tb-in-local-health-jurisdiction.xlsx\")"
      ],
      "execution_count": null,
      "outputs": []
    },
    {
      "cell_type": "code",
      "metadata": {
        "id": "MMscXeV1_2Kj",
        "colab_type": "code",
        "colab": {
          "base_uri": "https://localhost:8080/",
          "height": 391
        },
        "outputId": "43433280-9d8c-4552-8523-d38b5b7d9fb3"
      },
      "source": [
        "dataset_lhj"
      ],
      "execution_count": null,
      "outputs": [
        {
          "output_type": "execute_result",
          "data": {
            "text/html": [
              "<div>\n",
              "<style scoped>\n",
              "    .dataframe tbody tr th:only-of-type {\n",
              "        vertical-align: middle;\n",
              "    }\n",
              "\n",
              "    .dataframe tbody tr th {\n",
              "        vertical-align: top;\n",
              "    }\n",
              "\n",
              "    .dataframe thead th {\n",
              "        text-align: right;\n",
              "    }\n",
              "</style>\n",
              "<table border=\"1\" class=\"dataframe\">\n",
              "  <thead>\n",
              "    <tr style=\"text-align: right;\">\n",
              "      <th></th>\n",
              "      <th>year</th>\n",
              "      <th>jurisdiction</th>\n",
              "      <th>cases</th>\n",
              "      <th>population</th>\n",
              "      <th>rate</th>\n",
              "    </tr>\n",
              "  </thead>\n",
              "  <tbody>\n",
              "    <tr>\n",
              "      <th>0</th>\n",
              "      <td>2005</td>\n",
              "      <td>California</td>\n",
              "      <td>2897</td>\n",
              "      <td>35985582</td>\n",
              "      <td>8.1</td>\n",
              "    </tr>\n",
              "    <tr>\n",
              "      <th>1</th>\n",
              "      <td>2005</td>\n",
              "      <td>Alameda</td>\n",
              "      <td>153</td>\n",
              "      <td>1354209</td>\n",
              "      <td>11.3</td>\n",
              "    </tr>\n",
              "    <tr>\n",
              "      <th>2</th>\n",
              "      <td>2005</td>\n",
              "      <td>Alpine</td>\n",
              "      <td>0</td>\n",
              "      <td>1208</td>\n",
              "      <td>.</td>\n",
              "    </tr>\n",
              "    <tr>\n",
              "      <th>3</th>\n",
              "      <td>2005</td>\n",
              "      <td>Amador</td>\n",
              "      <td>0</td>\n",
              "      <td>37722</td>\n",
              "      <td>.</td>\n",
              "    </tr>\n",
              "    <tr>\n",
              "      <th>4</th>\n",
              "      <td>2005</td>\n",
              "      <td>Berkeley</td>\n",
              "      <td>10</td>\n",
              "      <td>105673</td>\n",
              "      <td>9.5</td>\n",
              "    </tr>\n",
              "    <tr>\n",
              "      <th>...</th>\n",
              "      <td>...</td>\n",
              "      <td>...</td>\n",
              "      <td>...</td>\n",
              "      <td>...</td>\n",
              "      <td>...</td>\n",
              "    </tr>\n",
              "    <tr>\n",
              "      <th>925</th>\n",
              "      <td>2019</td>\n",
              "      <td>Tulare</td>\n",
              "      <td>12</td>\n",
              "      <td>479924</td>\n",
              "      <td>2.5</td>\n",
              "    </tr>\n",
              "    <tr>\n",
              "      <th>926</th>\n",
              "      <td>2019</td>\n",
              "      <td>Tuolumne</td>\n",
              "      <td>1</td>\n",
              "      <td>52568</td>\n",
              "      <td>.</td>\n",
              "    </tr>\n",
              "    <tr>\n",
              "      <th>927</th>\n",
              "      <td>2019</td>\n",
              "      <td>Ventura</td>\n",
              "      <td>27</td>\n",
              "      <td>853747</td>\n",
              "      <td>3.2</td>\n",
              "    </tr>\n",
              "    <tr>\n",
              "      <th>928</th>\n",
              "      <td>2019</td>\n",
              "      <td>Yolo</td>\n",
              "      <td>9</td>\n",
              "      <td>222868</td>\n",
              "      <td>4</td>\n",
              "    </tr>\n",
              "    <tr>\n",
              "      <th>929</th>\n",
              "      <td>2019</td>\n",
              "      <td>Yuba</td>\n",
              "      <td>0</td>\n",
              "      <td>78292</td>\n",
              "      <td>.</td>\n",
              "    </tr>\n",
              "  </tbody>\n",
              "</table>\n",
              "<p>930 rows × 5 columns</p>\n",
              "</div>"
            ],
            "text/plain": [
              "     year jurisdiction  cases  population  rate\n",
              "0    2005   California   2897    35985582   8.1\n",
              "1    2005      Alameda    153     1354209  11.3\n",
              "2    2005       Alpine      0        1208     .\n",
              "3    2005       Amador      0       37722     .\n",
              "4    2005     Berkeley     10      105673   9.5\n",
              "..    ...          ...    ...         ...   ...\n",
              "925  2019       Tulare     12      479924   2.5\n",
              "926  2019     Tuolumne      1       52568     .\n",
              "927  2019      Ventura     27      853747   3.2\n",
              "928  2019         Yolo      9      222868     4\n",
              "929  2019         Yuba      0       78292     .\n",
              "\n",
              "[930 rows x 5 columns]"
            ]
          },
          "metadata": {
            "tags": []
          },
          "execution_count": 8
        }
      ]
    },
    {
      "cell_type": "markdown",
      "metadata": {
        "id": "8movHsSiHdCE",
        "colab_type": "text"
      },
      "source": [
        "# cleaning data (from question 02)"
      ]
    },
    {
      "cell_type": "markdown",
      "metadata": {
        "id": "sATef6F-dU4F",
        "colab_type": "text"
      },
      "source": [
        "### DATASET 01 (age, sex, race, origin)"
      ]
    },
    {
      "cell_type": "code",
      "metadata": {
        "id": "mcGptfXoHw6S",
        "colab_type": "code",
        "colab": {}
      },
      "source": [
        "dataset['Cases']=dataset['Cases'].replace('.', 0).astype(int).fillna(0)\n",
        "dataset['Population']=dataset['Population'].replace('.', 0).astype(float).fillna(0)\n",
        "dataset['Rate per 100,000 population']=dataset['Rate per 100,000 population'].replace('.', 0).astype(float).fillna(0)"
      ],
      "execution_count": null,
      "outputs": []
    },
    {
      "cell_type": "code",
      "metadata": {
        "id": "sicFb_OKNE1W",
        "colab_type": "code",
        "colab": {
          "base_uri": "https://localhost:8080/",
          "height": 277
        },
        "outputId": "9822d044-4f50-40e8-ac0c-ebae64c5da2d"
      },
      "source": [
        "dataset.describe()"
      ],
      "execution_count": null,
      "outputs": [
        {
          "output_type": "execute_result",
          "data": {
            "text/html": [
              "<div>\n",
              "<style scoped>\n",
              "    .dataframe tbody tr th:only-of-type {\n",
              "        vertical-align: middle;\n",
              "    }\n",
              "\n",
              "    .dataframe tbody tr th {\n",
              "        vertical-align: top;\n",
              "    }\n",
              "\n",
              "    .dataframe thead th {\n",
              "        text-align: right;\n",
              "    }\n",
              "</style>\n",
              "<table border=\"1\" class=\"dataframe\">\n",
              "  <thead>\n",
              "    <tr style=\"text-align: right;\">\n",
              "      <th></th>\n",
              "      <th>Year</th>\n",
              "      <th>Cases</th>\n",
              "      <th>Population</th>\n",
              "      <th>Rate per 100,000 population</th>\n",
              "    </tr>\n",
              "  </thead>\n",
              "  <tbody>\n",
              "    <tr>\n",
              "      <th>count</th>\n",
              "      <td>294.000000</td>\n",
              "      <td>294.000000</td>\n",
              "      <td>2.940000e+02</td>\n",
              "      <td>294.000000</td>\n",
              "    </tr>\n",
              "    <tr>\n",
              "      <th>mean</th>\n",
              "      <td>2011.948980</td>\n",
              "      <td>597.517007</td>\n",
              "      <td>9.707497e+06</td>\n",
              "      <td>6.190816</td>\n",
              "    </tr>\n",
              "    <tr>\n",
              "      <th>std</th>\n",
              "      <td>4.345267</td>\n",
              "      <td>666.768923</td>\n",
              "      <td>1.002097e+07</td>\n",
              "      <td>6.154769</td>\n",
              "    </tr>\n",
              "    <tr>\n",
              "      <th>min</th>\n",
              "      <td>2005.000000</td>\n",
              "      <td>0.000000</td>\n",
              "      <td>0.000000e+00</td>\n",
              "      <td>0.000000</td>\n",
              "    </tr>\n",
              "    <tr>\n",
              "      <th>25%</th>\n",
              "      <td>2008.000000</td>\n",
              "      <td>32.000000</td>\n",
              "      <td>2.217894e+06</td>\n",
              "      <td>1.200000</td>\n",
              "    </tr>\n",
              "    <tr>\n",
              "      <th>50%</th>\n",
              "      <td>2012.000000</td>\n",
              "      <td>384.500000</td>\n",
              "      <td>5.773050e+06</td>\n",
              "      <td>5.000000</td>\n",
              "    </tr>\n",
              "    <tr>\n",
              "      <th>75%</th>\n",
              "      <td>2016.000000</td>\n",
              "      <td>888.750000</td>\n",
              "      <td>1.503138e+07</td>\n",
              "      <td>8.100000</td>\n",
              "    </tr>\n",
              "    <tr>\n",
              "      <th>max</th>\n",
              "      <td>2019.000000</td>\n",
              "      <td>2897.000000</td>\n",
              "      <td>3.995910e+07</td>\n",
              "      <td>29.000000</td>\n",
              "    </tr>\n",
              "  </tbody>\n",
              "</table>\n",
              "</div>"
            ],
            "text/plain": [
              "              Year        Cases    Population  Rate per 100,000 population\n",
              "count   294.000000   294.000000  2.940000e+02                   294.000000\n",
              "mean   2011.948980   597.517007  9.707497e+06                     6.190816\n",
              "std       4.345267   666.768923  1.002097e+07                     6.154769\n",
              "min    2005.000000     0.000000  0.000000e+00                     0.000000\n",
              "25%    2008.000000    32.000000  2.217894e+06                     1.200000\n",
              "50%    2012.000000   384.500000  5.773050e+06                     5.000000\n",
              "75%    2016.000000   888.750000  1.503138e+07                     8.100000\n",
              "max    2019.000000  2897.000000  3.995910e+07                    29.000000"
            ]
          },
          "metadata": {
            "tags": []
          },
          "execution_count": 33
        }
      ]
    },
    {
      "cell_type": "markdown",
      "metadata": {
        "id": "jnZ1tY4kD8lC",
        "colab_type": "text"
      },
      "source": [
        "## Grouping data by different category"
      ]
    },
    {
      "cell_type": "code",
      "metadata": {
        "id": "teb-zHu2Cz6t",
        "colab_type": "code",
        "colab": {}
      },
      "source": [
        "## creating new dataframe of each category\n",
        "tb_by_age=dataset.groupby(['Category']).get_group('Age group')\n",
        "tb_by_sex=dataset.groupby(['Category']).get_group('Sex')\n",
        "tb_by_race=dataset.groupby(['Category']).get_group('Race/ethnicity')\n",
        "tb_by_origin=dataset.groupby(['Category']).get_group('Origin')\n",
        "tb_total=dataset.groupby(['Category']).get_group('Total')"
      ],
      "execution_count": null,
      "outputs": []
    },
    {
      "cell_type": "code",
      "metadata": {
        "id": "_ut4ESfAh4uv",
        "colab_type": "code",
        "colab": {
          "base_uri": "https://localhost:8080/",
          "height": 115
        },
        "outputId": "47785324-214e-463a-ec24-2941f3d805ca"
      },
      "source": [
        "## droping category and renaming strata\n",
        "tb_by_age=tb_by_age.drop(['Category'], axis=1).rename(columns={\"Strata\": \"age\"})\n",
        "tb_by_sex=tb_by_sex.drop(['Category'], axis=1).rename(columns={\"Strata\": \"sex\"})\n",
        "tb_by_race=tb_by_race.drop(['Category'], axis=1).rename(columns={\"Strata\": \"race\"})\n",
        "tb_by_origin=tb_by_origin.drop(['Category'], axis=1).rename(columns={\"Strata\": \"origin\"})\n",
        "tb_total=tb_total.drop(['Category'], axis=1).drop(['Strata'], axis=1)\n",
        "tb_by_origin.dtypes"
      ],
      "execution_count": null,
      "outputs": [
        {
          "output_type": "execute_result",
          "data": {
            "text/plain": [
              "Year                             int64\n",
              "origin                          object\n",
              "Cases                            int64\n",
              "Population                     float64\n",
              "Rate per 100,000 population    float64\n",
              "dtype: object"
            ]
          },
          "metadata": {
            "tags": []
          },
          "execution_count": 54
        }
      ]
    },
    {
      "cell_type": "markdown",
      "metadata": {
        "id": "Pp7eDLofdXuV",
        "colab_type": "text"
      },
      "source": [
        "### DATASET 02 (local health durisdiction)"
      ]
    },
    {
      "cell_type": "code",
      "metadata": {
        "id": "HOK2Y1sHeHGn",
        "colab_type": "code",
        "colab": {
          "base_uri": "https://localhost:8080/",
          "height": 115
        },
        "outputId": "e6920a7e-362f-4cc3-e199-53b4b7987ada"
      },
      "source": [
        "dataset_lhj['rate']=dataset_lhj['rate'].replace('.', 0).astype(float).fillna(0)\n",
        "dataset_lhj.dtypes"
      ],
      "execution_count": null,
      "outputs": [
        {
          "output_type": "execute_result",
          "data": {
            "text/plain": [
              "year              int64\n",
              "jurisdiction     object\n",
              "cases             int64\n",
              "population        int64\n",
              "rate            float64\n",
              "dtype: object"
            ]
          },
          "metadata": {
            "tags": []
          },
          "execution_count": 20
        }
      ]
    },
    {
      "cell_type": "markdown",
      "metadata": {
        "id": "_4mz6lPdj0JR",
        "colab_type": "text"
      },
      "source": [
        "with this we have cleaned all of our data and removed the targeted anomalies"
      ]
    },
    {
      "cell_type": "markdown",
      "metadata": {
        "id": "mYCYee3wFoOH",
        "colab_type": "text"
      },
      "source": [
        "# Finding Relation"
      ]
    },
    {
      "cell_type": "code",
      "metadata": {
        "id": "lrlxPnT8Goaj",
        "colab_type": "code",
        "colab": {
          "base_uri": "https://localhost:8080/",
          "height": 162
        },
        "outputId": "04e98efc-fe1d-4f18-957a-c18a30a7b048"
      },
      "source": [
        "tb_by_sex.corr(method ='pearson') "
      ],
      "execution_count": null,
      "outputs": [
        {
          "output_type": "execute_result",
          "data": {
            "text/html": [
              "<div>\n",
              "<style scoped>\n",
              "    .dataframe tbody tr th:only-of-type {\n",
              "        vertical-align: middle;\n",
              "    }\n",
              "\n",
              "    .dataframe tbody tr th {\n",
              "        vertical-align: top;\n",
              "    }\n",
              "\n",
              "    .dataframe thead th {\n",
              "        text-align: right;\n",
              "    }\n",
              "</style>\n",
              "<table border=\"1\" class=\"dataframe\">\n",
              "  <thead>\n",
              "    <tr style=\"text-align: right;\">\n",
              "      <th></th>\n",
              "      <th>Year</th>\n",
              "      <th>Cases</th>\n",
              "      <th>Population</th>\n",
              "      <th>Rate per 100,000 population</th>\n",
              "    </tr>\n",
              "  </thead>\n",
              "  <tbody>\n",
              "    <tr>\n",
              "      <th>Year</th>\n",
              "      <td>1.000000</td>\n",
              "      <td>-0.293625</td>\n",
              "      <td>0.305519</td>\n",
              "      <td>-0.387071</td>\n",
              "    </tr>\n",
              "    <tr>\n",
              "      <th>Cases</th>\n",
              "      <td>-0.293625</td>\n",
              "      <td>1.000000</td>\n",
              "      <td>0.494791</td>\n",
              "      <td>0.994604</td>\n",
              "    </tr>\n",
              "    <tr>\n",
              "      <th>Population</th>\n",
              "      <td>0.305519</td>\n",
              "      <td>0.494791</td>\n",
              "      <td>1.000000</td>\n",
              "      <td>0.444525</td>\n",
              "    </tr>\n",
              "    <tr>\n",
              "      <th>Rate per 100,000 population</th>\n",
              "      <td>-0.387071</td>\n",
              "      <td>0.994604</td>\n",
              "      <td>0.444525</td>\n",
              "      <td>1.000000</td>\n",
              "    </tr>\n",
              "  </tbody>\n",
              "</table>\n",
              "</div>"
            ],
            "text/plain": [
              "                                 Year  ...  Rate per 100,000 population\n",
              "Year                         1.000000  ...                    -0.387071\n",
              "Cases                       -0.293625  ...                     0.994604\n",
              "Population                   0.305519  ...                     0.444525\n",
              "Rate per 100,000 population -0.387071  ...                     1.000000\n",
              "\n",
              "[4 rows x 4 columns]"
            ]
          },
          "metadata": {
            "tags": []
          },
          "execution_count": 21
        }
      ]
    },
    {
      "cell_type": "markdown",
      "metadata": {
        "id": "H-2-ZoSvwMBN",
        "colab_type": "text"
      },
      "source": [
        "### Ques1: Relationship between Race and number of TB cases"
      ]
    },
    {
      "cell_type": "code",
      "metadata": {
        "id": "yYQidGRPaC9F",
        "colab_type": "code",
        "colab": {
          "base_uri": "https://localhost:8080/",
          "height": 302
        },
        "outputId": "5e839c94-327d-405f-bc8f-d5159867d299"
      },
      "source": [
        "tb_by_race.groupby('race')['Cases'].nunique().plot(kind='bar')\n",
        "plt.show()"
      ],
      "execution_count": null,
      "outputs": [
        {
          "output_type": "display_data",
          "data": {
            "image/png": "[encoded data removed]",
            "text/plain": [
              "<Figure size 1440x216 with 1 Axes>"
            ]
          },
          "metadata": {
            "tags": [],
            "needs_background": "light"
          }
        }
      ]
    },
    {
      "cell_type": "code",
      "metadata": {
        "id": "FIhCoohdNuBC",
        "colab_type": "code",
        "colab": {
          "base_uri": "https://localhost:8080/",
          "height": 683
        },
        "outputId": "27641e50-d9ac-4f93-a6b4-c08519a8038f"
      },
      "source": [
        "ax = tb_by_race.pivot('race', 'Year','Cases').plot.bar(figsize=(10,10))"
      ],
      "execution_count": null,
      "outputs": [
        {
          "output_type": "display_data",
          "data": {
            "image/png": "[encoded data removed]",
            "text/plain": [
              "<Figure size 720x720 with 1 Axes>"
            ]
          },
          "metadata": {
            "tags": [],
            "needs_background": "light"
          }
        }
      ]
    },
    {
      "cell_type": "code",
      "metadata": {
        "id": "xf45UtA4Qxy7",
        "colab_type": "code",
        "colab": {
          "base_uri": "https://localhost:8080/",
          "height": 513
        },
        "outputId": "b1540ec3-ab8b-4aed-b953-824e80b52b3a"
      },
      "source": [
        "tb_by_race.pivot_table( 'Cases', ['Year'], 'race').plot(figsize=(10,8))"
      ],
      "execution_count": null,
      "outputs": [
        {
          "output_type": "execute_result",
          "data": {
            "text/plain": [
              "<matplotlib.axes._subplots.AxesSubplot at 0x7febb032e828>"
            ]
          },
          "metadata": {
            "tags": []
          },
          "execution_count": 92
        },
        {
          "output_type": "display_data",
          "data": {
            "image/png": "[encoded data removed]",
            "text/plain": [
              "<Figure size 720x576 with 1 Axes>"
            ]
          },
          "metadata": {
            "tags": [],
            "needs_background": "light"
          }
        }
      ]
    },
    {
      "cell_type": "code",
      "metadata": {
        "id": "tQrbL7NAR6mU",
        "colab_type": "code",
        "colab": {
          "base_uri": "https://localhost:8080/",
          "height": 528
        },
        "outputId": "daf93891-9ca2-4bf1-bbec-bd06a34cc2d4"
      },
      "source": [
        "tb_by_race.pivot_table( 'Cases', ['Year'], 'race').plot(kind='bar',figsize=(10,8))"
      ],
      "execution_count": null,
      "outputs": [
        {
          "output_type": "execute_result",
          "data": {
            "text/plain": [
              "<matplotlib.axes._subplots.AxesSubplot at 0x7febb029dc18>"
            ]
          },
          "metadata": {
            "tags": []
          },
          "execution_count": 93
        },
        {
          "output_type": "display_data",
          "data": {
            "image/png": "[encoded data removed]",
            "text/plain": [
              "<Figure size 720x576 with 1 Axes>"
            ]
          },
          "metadata": {
            "tags": [],
            "needs_background": "light"
          }
        }
      ]
    },
    {
      "cell_type": "code",
      "metadata": {
        "id": "EaQWFAq5swzh",
        "colab_type": "code",
        "colab": {
          "base_uri": "https://localhost:8080/",
          "height": 180
        },
        "outputId": "7dfbe088-f1c3-429b-c662-eee11428854e"
      },
      "source": [
        "tb_by_race.groupby('race').Cases.sum()"
      ],
      "execution_count": null,
      "outputs": [
        {
          "output_type": "execute_result",
          "data": {
            "text/plain": [
              "race\n",
              "amerind/natalask       55\n",
              "asian               16800\n",
              "black                2206\n",
              "hispanic            12996\n",
              "multirace              78\n",
              "natHW/PacIsl          203\n",
              "unknown                28\n",
              "white                2768\n",
              "Name: Cases, dtype: int64"
            ]
          },
          "metadata": {
            "tags": []
          },
          "execution_count": 94
        }
      ]
    },
    {
      "cell_type": "code",
      "metadata": {
        "id": "1G_X93t-HjfO",
        "colab_type": "code",
        "colab": {
          "base_uri": "https://localhost:8080/",
          "height": 335
        },
        "outputId": "def33184-ba48-4f3d-80c6-6c7197671e48"
      },
      "source": [
        "pd.pivot_table(tb_by_race,index=[\"race\"],aggfunc=[np.sum,np.mean])"
      ],
      "execution_count": null,
      "outputs": [
        {
          "output_type": "execute_result",
          "data": {
            "text/html": [
              "<div>\n",
              "<style scoped>\n",
              "    .dataframe tbody tr th:only-of-type {\n",
              "        vertical-align: middle;\n",
              "    }\n",
              "\n",
              "    .dataframe tbody tr th {\n",
              "        vertical-align: top;\n",
              "    }\n",
              "\n",
              "    .dataframe thead tr th {\n",
              "        text-align: left;\n",
              "    }\n",
              "\n",
              "    .dataframe thead tr:last-of-type th {\n",
              "        text-align: right;\n",
              "    }\n",
              "</style>\n",
              "<table border=\"1\" class=\"dataframe\">\n",
              "  <thead>\n",
              "    <tr>\n",
              "      <th></th>\n",
              "      <th colspan=\"4\" halign=\"left\">sum</th>\n",
              "      <th colspan=\"4\" halign=\"left\">mean</th>\n",
              "    </tr>\n",
              "    <tr>\n",
              "      <th></th>\n",
              "      <th>Cases</th>\n",
              "      <th>Population</th>\n",
              "      <th>Rate per 100,000 population</th>\n",
              "      <th>Year</th>\n",
              "      <th>Cases</th>\n",
              "      <th>Population</th>\n",
              "      <th>Rate per 100,000 population</th>\n",
              "      <th>Year</th>\n",
              "    </tr>\n",
              "    <tr>\n",
              "      <th>race</th>\n",
              "      <th></th>\n",
              "      <th></th>\n",
              "      <th></th>\n",
              "      <th></th>\n",
              "      <th></th>\n",
              "      <th></th>\n",
              "      <th></th>\n",
              "      <th></th>\n",
              "    </tr>\n",
              "  </thead>\n",
              "  <tbody>\n",
              "    <tr>\n",
              "      <th>amerind/natalask</th>\n",
              "      <td>55</td>\n",
              "      <td>2682894.0</td>\n",
              "      <td>19.7</td>\n",
              "      <td>30180</td>\n",
              "      <td>3.666667</td>\n",
              "      <td>1.788596e+05</td>\n",
              "      <td>1.313333</td>\n",
              "      <td>2012.0</td>\n",
              "    </tr>\n",
              "    <tr>\n",
              "      <th>asian</th>\n",
              "      <td>16800</td>\n",
              "      <td>77228889.0</td>\n",
              "      <td>331.9</td>\n",
              "      <td>30180</td>\n",
              "      <td>1120.000000</td>\n",
              "      <td>5.148593e+06</td>\n",
              "      <td>22.126667</td>\n",
              "      <td>2012.0</td>\n",
              "    </tr>\n",
              "    <tr>\n",
              "      <th>black</th>\n",
              "      <td>2206</td>\n",
              "      <td>34143537.0</td>\n",
              "      <td>97.7</td>\n",
              "      <td>30180</td>\n",
              "      <td>147.066667</td>\n",
              "      <td>2.276236e+06</td>\n",
              "      <td>6.513333</td>\n",
              "      <td>2012.0</td>\n",
              "    </tr>\n",
              "    <tr>\n",
              "      <th>hispanic</th>\n",
              "      <td>12996</td>\n",
              "      <td>214613301.0</td>\n",
              "      <td>92.1</td>\n",
              "      <td>30180</td>\n",
              "      <td>866.400000</td>\n",
              "      <td>1.430755e+07</td>\n",
              "      <td>6.140000</td>\n",
              "      <td>2012.0</td>\n",
              "    </tr>\n",
              "    <tr>\n",
              "      <th>multirace</th>\n",
              "      <td>78</td>\n",
              "      <td>12899212.0</td>\n",
              "      <td>7.5</td>\n",
              "      <td>30180</td>\n",
              "      <td>5.200000</td>\n",
              "      <td>8.599475e+05</td>\n",
              "      <td>0.500000</td>\n",
              "      <td>2012.0</td>\n",
              "    </tr>\n",
              "    <tr>\n",
              "      <th>natHW/PacIsl</th>\n",
              "      <td>203</td>\n",
              "      <td>1983736.0</td>\n",
              "      <td>153.6</td>\n",
              "      <td>30180</td>\n",
              "      <td>13.533333</td>\n",
              "      <td>1.322491e+05</td>\n",
              "      <td>10.240000</td>\n",
              "      <td>2012.0</td>\n",
              "    </tr>\n",
              "    <tr>\n",
              "      <th>unknown</th>\n",
              "      <td>28</td>\n",
              "      <td>0.0</td>\n",
              "      <td>0.0</td>\n",
              "      <td>16084</td>\n",
              "      <td>3.500000</td>\n",
              "      <td>0.000000e+00</td>\n",
              "      <td>0.000000</td>\n",
              "      <td>2010.5</td>\n",
              "    </tr>\n",
              "    <tr>\n",
              "      <th>white</th>\n",
              "      <td>2768</td>\n",
              "      <td>227249226.0</td>\n",
              "      <td>18.3</td>\n",
              "      <td>30180</td>\n",
              "      <td>184.533333</td>\n",
              "      <td>1.514995e+07</td>\n",
              "      <td>1.220000</td>\n",
              "      <td>2012.0</td>\n",
              "    </tr>\n",
              "  </tbody>\n",
              "</table>\n",
              "</div>"
            ],
            "text/plain": [
              "                    sum               ...                        mean        \n",
              "                  Cases   Population  ... Rate per 100,000 population    Year\n",
              "race                                  ...                                    \n",
              "amerind/natalask     55    2682894.0  ...                    1.313333  2012.0\n",
              "asian             16800   77228889.0  ...                   22.126667  2012.0\n",
              "black              2206   34143537.0  ...                    6.513333  2012.0\n",
              "hispanic          12996  214613301.0  ...                    6.140000  2012.0\n",
              "multirace            78   12899212.0  ...                    0.500000  2012.0\n",
              "natHW/PacIsl        203    1983736.0  ...                   10.240000  2012.0\n",
              "unknown              28          0.0  ...                    0.000000  2010.5\n",
              "white              2768  227249226.0  ...                    1.220000  2012.0\n",
              "\n",
              "[8 rows x 8 columns]"
            ]
          },
          "metadata": {
            "tags": []
          },
          "execution_count": 148
        }
      ]
    },
    {
      "cell_type": "code",
      "metadata": {
        "id": "7i8AJVkaKLBd",
        "colab_type": "code",
        "colab": {
          "base_uri": "https://localhost:8080/",
          "height": 513
        },
        "outputId": "f5cfcede-8681-4e8c-93db-73e1c61b7374"
      },
      "source": [
        "##sorting it to reate a correlation\n",
        "race_sum=tb_by_race.groupby('race')['Cases'].agg(['sum','count'])\n",
        "flattened = pd.DataFrame(race_sum.to_records())\n",
        "flattened.plot(x='race', y='sum',figsize=(10,8))"
      ],
      "execution_count": null,
      "outputs": [
        {
          "output_type": "execute_result",
          "data": {
            "text/plain": [
              "<matplotlib.axes._subplots.AxesSubplot at 0x7febafdc1a90>"
            ]
          },
          "metadata": {
            "tags": []
          },
          "execution_count": 111
        },
        {
          "output_type": "display_data",
          "data": {
            "image/png": "[encoded data removed]",
            "text/plain": [
              "<Figure size 720x576 with 1 Axes>"
            ]
          },
          "metadata": {
            "tags": [],
            "needs_background": "light"
          }
        }
      ]
    },
    {
      "cell_type": "markdown",
      "metadata": {
        "id": "SgFWEFFPUhh_",
        "colab_type": "text"
      },
      "source": [
        ""
      ]
    },
    {
      "cell_type": "code",
      "metadata": {
        "id": "MWwo33pfKt1N",
        "colab_type": "code",
        "colab": {}
      },
      "source": [
        "flattened.sort_values(by=['sum'], inplace=True)\n"
      ],
      "execution_count": null,
      "outputs": []
    },
    {
      "cell_type": "code",
      "metadata": {
        "id": "sQAEypuOUOfN",
        "colab_type": "code",
        "colab": {
          "base_uri": "https://localhost:8080/",
          "height": 277
        },
        "outputId": "12653040-d91f-4edc-b7d0-a72ec4372de5"
      },
      "source": [
        "flattened"
      ],
      "execution_count": null,
      "outputs": [
        {
          "output_type": "execute_result",
          "data": {
            "text/html": [
              "<div>\n",
              "<style scoped>\n",
              "    .dataframe tbody tr th:only-of-type {\n",
              "        vertical-align: middle;\n",
              "    }\n",
              "\n",
              "    .dataframe tbody tr th {\n",
              "        vertical-align: top;\n",
              "    }\n",
              "\n",
              "    .dataframe thead th {\n",
              "        text-align: right;\n",
              "    }\n",
              "</style>\n",
              "<table border=\"1\" class=\"dataframe\">\n",
              "  <thead>\n",
              "    <tr style=\"text-align: right;\">\n",
              "      <th></th>\n",
              "      <th>race</th>\n",
              "      <th>sum</th>\n",
              "      <th>count</th>\n",
              "    </tr>\n",
              "  </thead>\n",
              "  <tbody>\n",
              "    <tr>\n",
              "      <th>6</th>\n",
              "      <td>unknown</td>\n",
              "      <td>28</td>\n",
              "      <td>8</td>\n",
              "    </tr>\n",
              "    <tr>\n",
              "      <th>0</th>\n",
              "      <td>amerind/natalask</td>\n",
              "      <td>55</td>\n",
              "      <td>15</td>\n",
              "    </tr>\n",
              "    <tr>\n",
              "      <th>4</th>\n",
              "      <td>multirace</td>\n",
              "      <td>78</td>\n",
              "      <td>15</td>\n",
              "    </tr>\n",
              "    <tr>\n",
              "      <th>5</th>\n",
              "      <td>natHW/PacIsl</td>\n",
              "      <td>203</td>\n",
              "      <td>15</td>\n",
              "    </tr>\n",
              "    <tr>\n",
              "      <th>2</th>\n",
              "      <td>black</td>\n",
              "      <td>2206</td>\n",
              "      <td>15</td>\n",
              "    </tr>\n",
              "    <tr>\n",
              "      <th>7</th>\n",
              "      <td>white</td>\n",
              "      <td>2768</td>\n",
              "      <td>15</td>\n",
              "    </tr>\n",
              "    <tr>\n",
              "      <th>3</th>\n",
              "      <td>hispanic</td>\n",
              "      <td>12996</td>\n",
              "      <td>15</td>\n",
              "    </tr>\n",
              "    <tr>\n",
              "      <th>1</th>\n",
              "      <td>asian</td>\n",
              "      <td>16800</td>\n",
              "      <td>15</td>\n",
              "    </tr>\n",
              "  </tbody>\n",
              "</table>\n",
              "</div>"
            ],
            "text/plain": [
              "               race    sum  count\n",
              "6           unknown     28      8\n",
              "0  amerind/natalask     55     15\n",
              "4         multirace     78     15\n",
              "5      natHW/PacIsl    203     15\n",
              "2             black   2206     15\n",
              "7             white   2768     15\n",
              "3          hispanic  12996     15\n",
              "1             asian  16800     15"
            ]
          },
          "metadata": {
            "tags": []
          },
          "execution_count": 114
        }
      ]
    },
    {
      "cell_type": "code",
      "metadata": {
        "id": "8rON2NInCk0T",
        "colab_type": "code",
        "colab": {
          "base_uri": "https://localhost:8080/",
          "height": 33
        },
        "outputId": "7d4e17d9-6f6b-43ab-8e5c-c402401732d9"
      },
      "source": [
        "## using pearson's correlation, a strong relation is found\n",
        "from scipy.stats import chisquare\n",
        "\n",
        "z=flattened.apply(lambda x : pd.factorize(x)[0])+1\n",
        "z['race'].corr(flattened['sum'])\n"
      ],
      "execution_count": null,
      "outputs": [
        {
          "output_type": "execute_result",
          "data": {
            "text/plain": [
              "0.8429211312030721"
            ]
          },
          "metadata": {
            "tags": []
          },
          "execution_count": 121
        }
      ]
    }
  ]
}